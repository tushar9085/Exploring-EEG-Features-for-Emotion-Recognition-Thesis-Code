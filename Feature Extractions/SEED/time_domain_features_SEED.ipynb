{
 "cells": [
  {
   "cell_type": "code",
   "execution_count": 24,
   "metadata": {},
   "outputs": [
    {
     "name": "stdout",
     "output_type": "stream",
     "text": [
      "(15, 5, 62, 736)\n",
      "(15,)\n"
     ]
    }
   ],
   "source": [
    "from scipy.io import loadmat\n",
    "from sklearn.preprocessing import MinMaxScaler\n",
    "from scipy import signal\n",
    "import numpy as np\n",
    "import math\n",
    "import os\n",
    "from scipy.stats import kurtosis\n",
    "\n",
    "def calculate_time_domain_features(segment):\n",
    "    mean_value = np.mean(segment)\n",
    "    std_dev = np.std(segment)\n",
    "    var = np.var(segment, ddof=1)\n",
    "    kurt = kurtosis(segment)\n",
    "    #max_value = np.max(segment)\n",
    "    return mean_value, std_dev, var, kurt\n",
    "\n",
    "def load_data():\n",
    "    data_dir = \"E:/STUDY/Publications/Thesis/Brain Emotion Detection/Dataset/Practice with datasets/Seed/Preprocessed_EEG/\"\n",
    "    fs = 200\n",
    "    fStart = [1, 4, 8, 14, 31]\n",
    "    fEnd = [3, 7, 13, 30, 50]\n",
    "    all_channels = range(62)\n",
    "\n",
    "    filename_label = \"label\"\n",
    "    label = loadmat(data_dir + filename_label)\n",
    "    label = label[\"label\"][0]\n",
    "\n",
    "    datasets_X, datasets_y = [], []\n",
    "\n",
    "    for filename_data in os.listdir(data_dir):\n",
    "        if filename_data in [\"label.mat\", \"readme.txt\"]:\n",
    "            continue\n",
    "\n",
    "        data_all = loadmat(data_dir + filename_data)\n",
    "        scenes = list(data_all.keys())[3:]\n",
    "\n",
    "        for index, scene in enumerate(scenes):\n",
    "            dataset_X = []\n",
    "            data = data_all[scene][:, :37000]  # Considering all channels\n",
    "\n",
    "            for band_index, band in enumerate(fStart):\n",
    "                b, a = signal.butter(4, [fStart[band_index]/fs, fEnd[band_index]/fs], 'bandpass')\n",
    "                filtedData = signal.filtfilt(b, a, data)\n",
    "                features = []\n",
    "\n",
    "                for lead in all_channels:\n",
    "                    feature = []\n",
    "                    for de_index in range(0, filtedData.shape[1] - fs, fs):\n",
    "                        segment = filtedData[lead, de_index: de_index + fs]\n",
    "                        # Calculate time domain features\n",
    "                        mean_value, std_dev, var, kurt = calculate_time_domain_features(segment)\n",
    "                        # Append features to the list\n",
    "                        feature.append([mean_value, std_dev, var, kurt])\n",
    "                    features.append(feature)\n",
    "\n",
    "                features = np.array(features)\n",
    "                dataset_X.append(features)\n",
    "\n",
    "            dataset_X = np.array(dataset_X)\n",
    "            dataset_X = dataset_X.reshape((dataset_X.shape[0], dataset_X.shape[1], -1))\n",
    "            \n",
    "            datasets_X.append(dataset_X)\n",
    "            datasets_y.append(label[index])\n",
    "\n",
    "    datasets_X, datasets_y = np.array(datasets_X), np.array(datasets_y)\n",
    "\n",
    "    return datasets_X, datasets_y\n",
    "\n",
    "\n",
    "datasets_X, datasets_y = load_data()\n",
    "print(datasets_X.shape)\n",
    "print(datasets_y.shape)\n"
   ]
  },
  {
   "cell_type": "code",
   "execution_count": null,
   "metadata": {},
   "outputs": [],
   "source": [
    "new_datasets_X = np.copy(datasets_X)\n",
    "new_datasets_X = np.transpose(new_datasets_X, (0, 2, 3, 1))\n",
    "print(new_datasets_X.shape)"
   ]
  },
  {
   "cell_type": "code",
   "execution_count": null,
   "metadata": {},
   "outputs": [],
   "source": [
    "np.save('TimeDomain_Feature_X.npy', new_datasets_X)\n",
    "np.save('TimeDomain_Feature_y.npy', datasets_y)"
   ]
  }
 ],
 "metadata": {
  "kernelspec": {
   "display_name": "thesis_code_practice",
   "language": "python",
   "name": "python3"
  },
  "language_info": {
   "codemirror_mode": {
    "name": "ipython",
    "version": 3
   },
   "file_extension": ".py",
   "mimetype": "text/x-python",
   "name": "python",
   "nbconvert_exporter": "python",
   "pygments_lexer": "ipython3",
   "version": "3.10.6"
  }
 },
 "nbformat": 4,
 "nbformat_minor": 2
}
