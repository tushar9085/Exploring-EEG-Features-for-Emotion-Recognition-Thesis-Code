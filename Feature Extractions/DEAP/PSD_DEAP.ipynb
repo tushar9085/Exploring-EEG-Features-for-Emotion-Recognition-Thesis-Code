{
 "cells": [
  {
   "cell_type": "code",
   "execution_count": 1,
   "metadata": {},
   "outputs": [
    {
     "name": "stdout",
     "output_type": "stream",
     "text": [
      "(1280, 4, 32, 42)\n",
      "(1280, 4)\n"
     ]
    }
   ],
   "source": [
    "from scipy.io import loadmat\n",
    "from scipy import signal\n",
    "import numpy as np\n",
    "import os\n",
    "\n",
    "def calculate_avg_psd(segment, fs, freq_range):\n",
    "    f, Pxx = signal.welch(segment, fs=fs, nperseg=128)\n",
    "    freq_indices = np.where((f >= freq_range[0]) & (f <= freq_range[1]))[0]\n",
    "    avg_psd = np.mean(Pxx[freq_indices])\n",
    "    return avg_psd\n",
    "\n",
    "def load_data(data_dir): \n",
    "    fs = 128\n",
    "    fStart = [4, 8, 14, 31]\n",
    "    fEnd = [7, 13, 30, 45]\n",
    "    selected_channels = range(32)\n",
    "    seconds_to_exclude = 10\n",
    "\n",
    "    datasets_X, datasets_y = [], []\n",
    "\n",
    "    for filename_data in os.listdir(data_dir):\n",
    "        if filename_data.endswith(\".mat\"):\n",
    "            # Load data and labels\n",
    "            mat_data = loadmat(os.path.join(data_dir, filename_data))\n",
    "            data = mat_data['data']\n",
    "            labels = mat_data['labels']\n",
    "\n",
    "            for trial_index in range(data.shape[0]):\n",
    "                dataset_X = []\n",
    "                trial_data = data[trial_index, selected_channels, :]\n",
    "\n",
    "                # Exclude the first and last 10 seconds\n",
    "                start_index = seconds_to_exclude * fs\n",
    "                end_index = -seconds_to_exclude * fs\n",
    "\n",
    "                trial_data = trial_data[:, start_index:end_index]\n",
    "\n",
    "                for band_index, band in enumerate(fStart):\n",
    "                    b, a = signal.butter(4, [fStart[band_index]/fs, fEnd[band_index]/fs], 'bandpass')\n",
    "                    filtered_data = signal.filtfilt(b, a, trial_data)\n",
    "                    features = []\n",
    "\n",
    "                    for lead in selected_channels:\n",
    "                        feature = []\n",
    "                        for de_index in range(0, filtered_data.shape[1] - fs, fs):\n",
    "                            data_segment = filtered_data[lead, de_index: de_index + fs]\n",
    "                            avg_psd = calculate_avg_psd(data_segment, fs, [fStart[band_index], fEnd[band_index]])  # Modify the frequency range as needed\n",
    "                            feature.append(avg_psd)\n",
    "\n",
    "                        features.append(feature)\n",
    "\n",
    "                    features = np.array(features)\n",
    "                    dataset_X.append(features)\n",
    "\n",
    "                #dataset_X = np.array(dataset_X)\n",
    "                #dataset_X = dataset_X.reshape((dataset_X.shape[0], dataset_X.shape[1], -1))\n",
    "\n",
    "                datasets_X.append(dataset_X)\n",
    "                datasets_y.append(labels[trial_index])\n",
    "\n",
    "    datasets_X, datasets_y = np.array(datasets_X), np.array(datasets_y)\n",
    "\n",
    "    return datasets_X, datasets_y\n",
    "\n",
    "data_dir = \"E:/STUDY/Publications/Thesis/Brain Emotion Detection/Dataset/DEAP/data_preprocessed_matlab/\"\n",
    "\n",
    "datasets_X, datasets_y = load_data(data_dir)\n",
    "print(datasets_X.shape)\n",
    "print(datasets_y.shape)\n"
   ]
  },
  {
   "cell_type": "code",
   "execution_count": 2,
   "metadata": {},
   "outputs": [
    {
     "name": "stdout",
     "output_type": "stream",
     "text": [
      "(1280, 32, 42, 4)\n"
     ]
    }
   ],
   "source": [
    "new_datasets_X = np.copy(datasets_X)\n",
    "new_datasets_X = np.transpose(new_datasets_X, (0, 2, 3, 1))\n",
    "print(new_datasets_X.shape)"
   ]
  },
  {
   "cell_type": "code",
   "execution_count": 3,
   "metadata": {},
   "outputs": [],
   "source": [
    "np.save('DEAP_PSD_X.npy', new_datasets_X)\n",
    "np.save('DEAP_PSD_y.npy', datasets_y)"
   ]
  }
 ],
 "metadata": {
  "kernelspec": {
   "display_name": "thesis_code_practice",
   "language": "python",
   "name": "python3"
  },
  "language_info": {
   "codemirror_mode": {
    "name": "ipython",
    "version": 3
   },
   "file_extension": ".py",
   "mimetype": "text/x-python",
   "name": "python",
   "nbconvert_exporter": "python",
   "pygments_lexer": "ipython3",
   "version": "3.10.6"
  }
 },
 "nbformat": 4,
 "nbformat_minor": 2
}
