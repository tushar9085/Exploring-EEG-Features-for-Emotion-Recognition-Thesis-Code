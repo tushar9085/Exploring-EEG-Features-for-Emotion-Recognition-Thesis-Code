{
 "cells": [
  {
   "cell_type": "code",
   "execution_count": 1,
   "metadata": {},
   "outputs": [],
   "source": [
    "import numpy as np\n",
    "\n",
    "# Load the data from the NPY file\n",
    "file_path = r'E:\\STUDY\\Publications\\Thesis\\Brain Emotion Detection\\Dataset\\Practice with datasets\\deap\\DEAP_DE_X_y\\DEAP_DE_X.npy'\n",
    "data = np.load(file_path)"
   ]
  },
  {
   "cell_type": "code",
   "execution_count": 2,
   "metadata": {},
   "outputs": [
    {
     "data": {
      "text/plain": [
       "(1280, 32, 42, 4)"
      ]
     },
     "execution_count": 2,
     "metadata": {},
     "output_type": "execute_result"
    }
   ],
   "source": [
    "data.shape"
   ]
  },
  {
   "cell_type": "markdown",
   "metadata": {},
   "source": [
    "# EMotion pos neg neutral as of SEED"
   ]
  },
  {
   "cell_type": "code",
   "execution_count": 2,
   "metadata": {},
   "outputs": [
    {
     "name": "stdout",
     "output_type": "stream",
     "text": [
      "Positive Emotions: 466\n",
      "Negative Emotions: 410\n",
      "Neutral Emotions: 404\n"
     ]
    }
   ],
   "source": [
    "import numpy as np\n",
    "\n",
    "# Load the data from the NPY file\n",
    "file_path = r'E:\\STUDY\\Publications\\Thesis\\Brain Emotion Detection\\Dataset\\Practice with datasets\\deap\\DEAP_DE_X_y\\DEAP_DE_y.npy'\n",
    "data = np.load(file_path)\n",
    "\n",
    "# Create an empty list to store the classified emotions\n",
    "classified_emotions = []\n",
    "\n",
    "# Iterate through each row in the data\n",
    "for row in data:\n",
    "    valence, arousal, dominance, likings = row[0], row[1], row[2], row[3]\n",
    "\n",
    "    # Adjusted decision logic for emotion classification with a threshold of 4.5\n",
    "    if arousal > 6 and valence > 6 and dominance > 6:\n",
    "        emotion_label = 'Positive'\n",
    "    elif arousal > 6 and valence <= 4.5:\n",
    "        emotion_label = 'Negative'\n",
    "    elif valence > 6 and arousal <= 3 and dominance > 6:\n",
    "        emotion_label = 'Positive'\n",
    "    elif valence <= 4 and arousal <= 6.5 and dominance > 5:\n",
    "        emotion_label = 'Negative'\n",
    "    elif valence <= 5 and arousal <= 5 and dominance <= 6:\n",
    "        emotion_label = 'Neutral'\n",
    "    \n",
    "    # Append the emotion label to the row\n",
    "    row_with_label = np.append(row, emotion_label)\n",
    "    classified_emotions.append(row_with_label)\n",
    "\n",
    "# Convert the list to a NumPy array for further analysis if needed\n",
    "classified_emotions = np.array(classified_emotions)\n",
    "\n",
    "# Print the number of instances in each category\n",
    "print(f\"Positive Emotions: {np.sum(classified_emotions[:, -1] == 'Positive')}\")\n",
    "print(f\"Negative Emotions: {np.sum(classified_emotions[:, -1] == 'Negative')}\")\n",
    "print(f\"Neutral Emotions: {np.sum(classified_emotions[:, -1] == 'Neutral')}\")\n",
    "\n",
    "# Save the classified data to a new NPY file\n",
    "#np.save('classified_emotions.npy', classified_emotions)\n"
   ]
  },
  {
   "cell_type": "code",
   "execution_count": 3,
   "metadata": {},
   "outputs": [
    {
     "name": "stdout",
     "output_type": "stream",
     "text": [
      "[ 1  1  1 ... -1 -1 -1]\n"
     ]
    }
   ],
   "source": [
    "# Extract only the 4th column (emotion labels)\n",
    "emotion_labels = classified_emotions[:, 4]\n",
    "\n",
    "# Map the emotion labels to the desired values\n",
    "emotion_mapping = {'Positive': 1, 'Neutral': 0, 'Negative': -1}\n",
    "mapped_emotion_labels = np.vectorize(emotion_mapping.get)(emotion_labels)\n",
    "\n",
    "# Print the mapped emotion labels\n",
    "print(mapped_emotion_labels)"
   ]
  },
  {
   "cell_type": "code",
   "execution_count": 4,
   "metadata": {},
   "outputs": [],
   "source": [
    "np.save('deap_de_y_emotions.npy', mapped_emotion_labels)"
   ]
  },
  {
   "cell_type": "code",
   "execution_count": 82,
   "metadata": {},
   "outputs": [
    {
     "name": "stdout",
     "output_type": "stream",
     "text": [
      "Class -1.0: 225 occurrences\n",
      "Class 0.0: 225 occurrences\n",
      "Class 1.0: 225 occurrences\n"
     ]
    }
   ],
   "source": [
    "import numpy as np\n",
    "\n",
    "# Replace the file path with your actual file path\n",
    "file_path = r'E:\\STUDY\\Publications\\Thesis\\Brain Emotion Detection\\Dataset\\Practice with datasets\\Seed\\de_LDS_Extracted\\X and Y\\y.npy'\n",
    "\n",
    "# Load the NumPy array from the file\n",
    "y = np.load(file_path)\n",
    "\n",
    "# Count the unique classes and their frequencies\n",
    "unique_classes, counts = np.unique(y, return_counts=True)\n",
    "\n",
    "# Print the results\n",
    "for class_label, count in zip(unique_classes, counts):\n",
    "    print(f'Class {class_label}: {count} occurrences')\n"
   ]
  },
  {
   "cell_type": "markdown",
   "metadata": {},
   "source": [
    "# EMotion Valence"
   ]
  },
  {
   "cell_type": "code",
   "execution_count": 1,
   "metadata": {},
   "outputs": [],
   "source": [
    "import numpy as np\n",
    "\n",
    "# Load the data from the NPY file\n",
    "file_path = r'E:\\STUDY\\Publications\\Thesis\\Brain Emotion Detection\\Dataset\\Practice with datasets\\deap\\PSD\\DEAP_PSD_y.npy'\n",
    "data = np.load(file_path)"
   ]
  },
  {
   "cell_type": "code",
   "execution_count": 2,
   "metadata": {},
   "outputs": [
    {
     "data": {
      "text/plain": [
       "array([[7.71, 7.6 , 6.9 , 7.83],\n",
       "       [8.1 , 7.31, 7.28, 8.47],\n",
       "       [8.58, 7.54, 9.  , 7.08],\n",
       "       ...,\n",
       "       [3.05, 7.01, 5.1 , 1.1 ],\n",
       "       [3.99, 7.17, 4.85, 1.  ],\n",
       "       [7.15, 4.03, 9.  , 1.88]])"
      ]
     },
     "execution_count": 2,
     "metadata": {},
     "output_type": "execute_result"
    }
   ],
   "source": [
    "data"
   ]
  },
  {
   "cell_type": "code",
   "execution_count": 8,
   "metadata": {},
   "outputs": [
    {
     "data": {
      "text/plain": [
       "array([7.71, 8.1 , 8.58, ..., 3.05, 3.99, 7.15])"
      ]
     },
     "execution_count": 8,
     "metadata": {},
     "output_type": "execute_result"
    }
   ],
   "source": [
    "# Select only the valence column\n",
    "data_valence = data[:, 0]\n",
    "data_valence"
   ]
  },
  {
   "cell_type": "code",
   "execution_count": 15,
   "metadata": {},
   "outputs": [
    {
     "name": "stdout",
     "output_type": "stream",
     "text": [
      "Frequency of 0: 669\n",
      "Frequency of 1: 611\n"
     ]
    }
   ],
   "source": [
    "# Modify the values\n",
    "data_valence_modified = np.where(data_valence < 5.1, 0, 1)\n",
    "\n",
    "# Count the frequency of 0s and 1s\n",
    "counts = np.bincount(data_valence_modified)\n",
    "\n",
    "# Display the counts\n",
    "print(\"Frequency of 0:\", counts[0])\n",
    "print(\"Frequency of 1:\", counts[1])"
   ]
  },
  {
   "cell_type": "code",
   "execution_count": 16,
   "metadata": {},
   "outputs": [],
   "source": [
    "# Specify the save path for the modified valence data\n",
    "save_path_modified = r'E:\\STUDY\\Publications\\Thesis\\Brain Emotion Detection\\Dataset\\Practice with datasets\\deap\\DEAP_DE_X_y\\DEAP_DE_valence_y.npy'\n",
    "\n",
    "# Save the modified valence data in NPY format\n",
    "np.save(save_path_modified, data_valence_modified)"
   ]
  },
  {
   "cell_type": "markdown",
   "metadata": {},
   "source": [
    "# Emotion Arousal"
   ]
  },
  {
   "cell_type": "code",
   "execution_count": 17,
   "metadata": {},
   "outputs": [
    {
     "data": {
      "text/plain": [
       "array([7.6 , 7.31, 7.54, ..., 7.01, 7.17, 4.03])"
      ]
     },
     "execution_count": 17,
     "metadata": {},
     "output_type": "execute_result"
    }
   ],
   "source": [
    "data_arousal = data[:, 1]\n",
    "data_arousal"
   ]
  },
  {
   "cell_type": "code",
   "execution_count": 18,
   "metadata": {},
   "outputs": [
    {
     "name": "stdout",
     "output_type": "stream",
     "text": [
      "Frequency of 0: 669\n",
      "Frequency of 1: 611\n"
     ]
    }
   ],
   "source": [
    "# Modify the values\n",
    "data_arousal_modified = np.where(data_arousal < 5.1, 0, 1)\n",
    "\n",
    "# Count the frequency of 0s and 1s\n",
    "counts = np.bincount(data_valence_modified)\n",
    "\n",
    "# Display the counts\n",
    "print(\"Frequency of 0:\", counts[0])\n",
    "print(\"Frequency of 1:\", counts[1])"
   ]
  },
  {
   "cell_type": "code",
   "execution_count": 20,
   "metadata": {},
   "outputs": [],
   "source": [
    "# Specify the save path for the modified valence data\n",
    "save_path_modified = r'E:\\STUDY\\Publications\\Thesis\\Brain Emotion Detection\\Dataset\\Practice with datasets\\deap\\DEAP_DE_X_y\\DEAP_DE_arousal_y.npy'\n",
    "\n",
    "# Save the modified valence data in NPY format\n",
    "np.save(save_path_modified, data_arousal_modified)"
   ]
  },
  {
   "cell_type": "markdown",
   "metadata": {},
   "source": [
    "# Shuffle"
   ]
  },
  {
   "cell_type": "code",
   "execution_count": 3,
   "metadata": {},
   "outputs": [],
   "source": [
    "from sklearn.utils import shuffle"
   ]
  },
  {
   "cell_type": "code",
   "execution_count": 33,
   "metadata": {},
   "outputs": [
    {
     "name": "stdout",
     "output_type": "stream",
     "text": [
      "Final Labels 1:\n",
      "Label: 0, Count: 52\n",
      "Label: 1, Count: 48\n",
      "\n",
      "Final Labels 2:\n",
      "Label: 0, Count: 52\n",
      "Label: 1, Count: 48\n"
     ]
    }
   ],
   "source": [
    "X  = np.load(r'E:\\STUDY\\Publications\\Thesis\\Brain Emotion Detection\\Dataset\\Practice with datasets\\deap\\Time\\DEAP_Time_Domain_X.npy')\n",
    "y  = np.load(r'E:\\STUDY\\Publications\\Thesis\\Brain Emotion Detection\\Dataset\\Practice with datasets\\deap\\PSD\\DEAP_PSD_valence_y.npy')\n",
    "z  = np.load(r'E:\\STUDY\\Publications\\Thesis\\Brain Emotion Detection\\Dataset\\Practice with datasets\\deap\\PSD\\DEAP_PSD_arousal_y.npy')\n",
    "X_shuffled, y_shuffled, z_shuffled = shuffle(X, y, z)\n",
    "\n",
    "\n",
    "data = X_shuffled\n",
    "labels_edited = y_shuffled\n",
    "\n",
    "labels_edited1 = y_shuffled\n",
    "labels_edited2 = z_shuffled\n",
    "\n",
    "#Splitting Dataset into train, validation, test \n",
    "\n",
    "final_labels1 = labels_edited1[1180:1280]\n",
    "final_labels2 = labels_edited2[1180:1280]\n",
    "\n",
    "# Get the unique labels and their counts for final_labels1\n",
    "unique_labels1, label_counts1 = np.unique(final_labels1, return_counts=True)\n",
    "\n",
    "# Print the unique labels and their counts for final_labels1\n",
    "print(\"Final Labels 1:\")\n",
    "for label, count in zip(unique_labels1, label_counts1):\n",
    "    print(f\"Label: {label}, Count: {count}\")\n",
    "\n",
    "# Get the unique labels and their counts for final_labels2\n",
    "unique_labels2, label_counts2 = np.unique(final_labels2, return_counts=True)\n",
    "\n",
    "# Print the unique labels and their counts for final_labels2\n",
    "print(\"\\nFinal Labels 2:\")\n",
    "for label, count in zip(unique_labels2, label_counts2):\n",
    "    print(f\"Label: {label}, Count: {count}\")\n"
   ]
  },
  {
   "cell_type": "code",
   "execution_count": 34,
   "metadata": {},
   "outputs": [],
   "source": [
    "# Save X_shuffled\n",
    "np.save('DEAP_Time_X.npy', X_shuffled)\n",
    "\n",
    "# Save y_shuffled\n",
    "np.save('DEAP_Time_valence_y.npy', y_shuffled)\n",
    "\n",
    "# Save z_shuffled\n",
    "np.save('DEAP_Time_arousal_y.npy', z_shuffled)"
   ]
  },
  {
   "cell_type": "code",
   "execution_count": 14,
   "metadata": {},
   "outputs": [],
   "source": []
  },
  {
   "cell_type": "code",
   "execution_count": 15,
   "metadata": {},
   "outputs": [
    {
     "name": "stdout",
     "output_type": "stream",
     "text": [
      "Final Labels 1:\n",
      "Label: 0, Count: 48\n",
      "Label: 1, Count: 52\n",
      "\n",
      "Final Labels 2:\n",
      "Label: 0, Count: 47\n",
      "Label: 1, Count: 53\n"
     ]
    }
   ],
   "source": [
    "\n"
   ]
  }
 ],
 "metadata": {
  "kernelspec": {
   "display_name": "thesis_code_practice",
   "language": "python",
   "name": "python3"
  },
  "language_info": {
   "codemirror_mode": {
    "name": "ipython",
    "version": 3
   },
   "file_extension": ".py",
   "mimetype": "text/x-python",
   "name": "python",
   "nbconvert_exporter": "python",
   "pygments_lexer": "ipython3",
   "version": "3.10.6"
  }
 },
 "nbformat": 4,
 "nbformat_minor": 2
}
