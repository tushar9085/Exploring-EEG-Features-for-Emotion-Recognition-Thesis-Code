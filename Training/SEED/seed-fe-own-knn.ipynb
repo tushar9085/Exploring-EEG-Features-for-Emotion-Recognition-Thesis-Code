{
 "cells": [
  {
   "cell_type": "code",
   "execution_count": 1,
   "id": "34187c0a",
   "metadata": {
    "_cell_guid": "b1076dfc-b9ad-4769-8c92-a6c4dae69d19",
    "_uuid": "8f2839f25d086af736a60e9eeb907d3b93b6e0e5",
    "execution": {
     "iopub.execute_input": "2024-01-14T04:29:36.475653Z",
     "iopub.status.busy": "2024-01-14T04:29:36.475280Z",
     "iopub.status.idle": "2024-01-14T04:39:13.031082Z",
     "shell.execute_reply": "2024-01-14T04:39:13.029735Z"
    },
    "papermill": {
     "duration": 576.563783,
     "end_time": "2024-01-14T04:39:13.034747",
     "exception": false,
     "start_time": "2024-01-14T04:29:36.470964",
     "status": "completed"
    },
    "tags": []
   },
   "outputs": [
    {
     "name": "stdout",
     "output_type": "stream",
     "text": [
      "Training Accuracy: 1.0\n",
      "Test Accuracy: 0.42962962962962964\n",
      "Classification Report:\n",
      "              precision    recall  f1-score   support\n",
      "\n",
      "          -1       0.38      0.86      0.52        42\n",
      "           0       0.29      0.10      0.14        42\n",
      "           1       0.72      0.35      0.47        51\n",
      "\n",
      "    accuracy                           0.43       135\n",
      "   macro avg       0.46      0.44      0.38       135\n",
      "weighted avg       0.48      0.43      0.39       135\n",
      "\n",
      "Confusion Matrix:\n",
      "[[36  5  1]\n",
      " [32  4  6]\n",
      " [28  5 18]]\n"
     ]
    },
    {
     "data": {
      "image/png": "[encoded data removed]",
      "text/plain": [
       "<Figure size 640x480 with 2 Axes>"
      ]
     },
     "metadata": {},
     "output_type": "display_data"
    },
    {
     "name": "stdout",
     "output_type": "stream",
     "text": [
      "Best Hyperparameters: {'metric': 'manhattan', 'n_neighbors': 3, 'weights': 'distance'}\n",
      "Training Time: 488.82787680625916 seconds\n"
     ]
    }
   ],
   "source": [
    "import numpy as np\n",
    "from sklearn.model_selection import train_test_split, GridSearchCV\n",
    "from sklearn.neighbors import KNeighborsClassifier\n",
    "from sklearn.preprocessing import StandardScaler\n",
    "from sklearn.metrics import accuracy_score, classification_report, confusion_matrix\n",
    "import seaborn as sns\n",
    "import matplotlib.pyplot as plt\n",
    "import time\n",
    "\n",
    "# Load Data\n",
    "X = np.load(\"/kaggle/input/seed-fe-own/Shuffled/Time/shuffled_X.npy\")\n",
    "y = np.load(\"/kaggle/input/seed-fe-own/Shuffled/Time/shuffled_y.npy\")\n",
    "\n",
    "# Flatten the features\n",
    "X_shape = X.shape\n",
    "X = X.reshape((X_shape[0], -1))\n",
    "\n",
    "# Train-test split and normalization\n",
    "X_train, X_test, y_train, y_test = train_test_split(X, y, test_size=0.2, random_state=42)\n",
    "\n",
    "scaler = StandardScaler()\n",
    "X_train = scaler.fit_transform(X_train)\n",
    "X_test = scaler.transform(X_test)\n",
    "\n",
    "# Define the parameter grid for GridSearchCV\n",
    "param_grid = {\n",
    "    'n_neighbors': [3, 5, 7, 9],  # Number of neighbors\n",
    "    'weights': ['uniform', 'distance'],  # Weight function used in prediction\n",
    "    'metric': ['euclidean', 'manhattan']  # Distance metric\n",
    "}\n",
    "\n",
    "# Create a KNN model\n",
    "knn_model = KNeighborsClassifier()\n",
    "\n",
    "# Use GridSearchCV to find the best hyperparameters and measure the training time\n",
    "start_time = time.time()\n",
    "grid_search = GridSearchCV(estimator=knn_model, param_grid=param_grid, cv=5, scoring='accuracy')\n",
    "grid_search.fit(X_train, y_train)\n",
    "end_time = time.time()\n",
    "training_time = end_time - start_time\n",
    "\n",
    "# Get the best model\n",
    "best_knn_model = grid_search.best_estimator_\n",
    "\n",
    "# Predictions\n",
    "y_train_pred = best_knn_model.predict(X_train)\n",
    "y_test_pred = best_knn_model.predict(X_test)\n",
    "\n",
    "# Training Accuracy\n",
    "train_accuracy = accuracy_score(y_train, y_train_pred)\n",
    "print(\"Training Accuracy:\", train_accuracy)\n",
    "\n",
    "# Test Accuracy\n",
    "test_accuracy = accuracy_score(y_test, y_test_pred)\n",
    "print(\"Test Accuracy:\", test_accuracy)\n",
    "\n",
    "# Classification Report\n",
    "print(\"Classification Report:\")\n",
    "classification_rep = classification_report(y_test, y_test_pred)\n",
    "print(classification_rep)\n",
    "\n",
    "# Confusion Matrix\n",
    "print(\"Confusion Matrix:\")\n",
    "conf_matrix = confusion_matrix(y_test, y_test_pred)\n",
    "print(conf_matrix)\n",
    "\n",
    "# Seaborn Heatmap for Confusion Matrix\n",
    "sns.heatmap(conf_matrix, annot=True, fmt=\"d\", cmap=\"Blues\")\n",
    "plt.title(\"Confusion Matrix\")\n",
    "plt.show()\n",
    "\n",
    "# Print the best hyperparameters found by GridSearchCV\n",
    "print(\"Best Hyperparameters:\", grid_search.best_params_)\n",
    "\n",
    "# Print the training time\n",
    "print(\"Training Time:\", training_time, \"seconds\")\n"
   ]
  }
 ],
 "metadata": {
  "kaggle": {
   "accelerator": "none",
   "dataSources": [
    {
     "datasetId": 4300911,
     "sourceId": 7397071,
     "sourceType": "datasetVersion"
    }
   ],
   "isGpuEnabled": false,
   "isInternetEnabled": true,
   "language": "python",
   "sourceType": "notebook"
  },
  "kernelspec": {
   "display_name": "Python 3",
   "language": "python",
   "name": "python3"
  },
  "language_info": {
   "codemirror_mode": {
    "name": "ipython",
    "version": 3
   },
   "file_extension": ".py",
   "mimetype": "text/x-python",
   "name": "python",
   "nbconvert_exporter": "python",
   "pygments_lexer": "ipython3",
   "version": "3.10.12"
  },
  "papermill": {
   "default_parameters": {},
   "duration": 580.676716,
   "end_time": "2024-01-14T04:39:13.660142",
   "environment_variables": {},
   "exception": null,
   "input_path": "__notebook__.ipynb",
   "output_path": "__notebook__.ipynb",
   "parameters": {},
   "start_time": "2024-01-14T04:29:32.983426",
   "version": "2.4.0"
  }
 },
 "nbformat": 4,
 "nbformat_minor": 5
}
