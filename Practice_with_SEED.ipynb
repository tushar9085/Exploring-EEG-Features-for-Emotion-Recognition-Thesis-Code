{
 "cells": [
  {
   "cell_type": "markdown",
   "metadata": {},
   "source": [
    "# With Preprocessed_EEG"
   ]
  },
  {
   "cell_type": "code",
   "execution_count": 1,
   "metadata": {},
   "outputs": [],
   "source": [
    "import numpy as np\n",
    "import matplotlib.pyplot as plt\n",
    "import os\n",
    "import scipy.io as sio\n",
    "import mne\n",
    "import pandas as pd"
   ]
  },
  {
   "cell_type": "code",
   "execution_count": null,
   "metadata": {},
   "outputs": [],
   "source": [
    "import numpy as np\n",
    "\n",
    "# File paths\n",
    "file_paths = [\n",
    "    r'E:\\STUDY\\Publications\\Thesis\\Brain Emotion Detection\\Dataset\\Merged\\SEED_DE_X_for_Merge_3min.npy',\n",
    "    r'E:\\STUDY\\Publications\\Thesis\\Brain Emotion Detection\\Dataset\\Merged\\SEED_DE_y_for_Merge_3min.npy',\n",
    "    r'E:\\STUDY\\Publications\\Thesis\\Brain Emotion Detection\\Dataset\\Merged\\DEAP_DE_X.npy',\n",
    "    r'E:\\STUDY\\Publications\\Thesis\\Brain Emotion Detection\\Dataset\\Merged\\deap_de_y_emotions.npy'\n",
    "]\n",
    "\n",
    "# Load files into variables\n",
    "var1 = np.load(file_paths[0])\n",
    "var2 = np.load(file_paths[1])\n",
    "var3 = np.load(file_paths[2])\n",
    "var4 = np.load(file_paths[3])\n"
   ]
  },
  {
   "cell_type": "code",
   "execution_count": null,
   "metadata": {},
   "outputs": [],
   "source": [
    "print(var1.shape)\n",
    "print(var3.shape)"
   ]
  },
  {
   "cell_type": "code",
   "execution_count": null,
   "metadata": {},
   "outputs": [],
   "source": [
    "\n",
    "merged_X = np.concatenate((var1, var3), axis=0)\n",
    "\n",
    "# Concatenate var2 and var4 into another variable\n",
    "merged_y = np.concatenate((var2, var4), axis=0)\n"
   ]
  },
  {
   "cell_type": "code",
   "execution_count": null,
   "metadata": {},
   "outputs": [],
   "source": [
    "from sklearn.utils import shuffle \n",
    "\n",
    "\n",
    "data, labels_edited = shuffle(merged_X, merged_y)\n"
   ]
  },
  {
   "cell_type": "code",
   "execution_count": null,
   "metadata": {},
   "outputs": [],
   "source": [
    "merged_X = data\n",
    "\n",
    "merged_y = labels_edited"
   ]
  },
  {
   "cell_type": "code",
   "execution_count": null,
   "metadata": {},
   "outputs": [],
   "source": [
    "merged_X.shape"
   ]
  },
  {
   "cell_type": "code",
   "execution_count": null,
   "metadata": {},
   "outputs": [],
   "source": [
    "# Save merged_X to .npy file\n",
    "np.save('merged_X.npy', merged_X)\n",
    "\n",
    "# Save merged_y to .npy file\n",
    "np.save('merged_y.npy', merged_y)"
   ]
  },
  {
   "cell_type": "code",
   "execution_count": 14,
   "metadata": {},
   "outputs": [],
   "source": [
    "\n",
    "#file_path = 'E:/STUDY/Publications/Thesis/Brain Emotion Detection/Dataset/Practice with datasets/Seed/Preprocessed_EEG/1_20131027.mat'\n",
    "file_path = 'E:/STUDY/Publications/Thesis/Brain Emotion Detection/Dataset/Practice with datasets/Seed/ExtractedFeatures/1_20131027.mat'\n",
    "#file_path =  'E:/STUDY/Publications/Thesis/Brain Emotion Detection/Dataset/DEAP/data_preprocessed_matlab/s01.mat'\n",
    "\n",
    "mat_data = sio.loadmat(file_path)\n"
   ]
  },
  {
   "cell_type": "code",
   "execution_count": 15,
   "metadata": {},
   "outputs": [
    {
     "name": "stdout",
     "output_type": "stream",
     "text": [
      "dict_keys(['__header__', '__version__', '__globals__', 'de_movingAve1', 'de_LDS1', 'psd_movingAve1', 'psd_LDS1', 'dasm_movingAve1', 'dasm_LDS1', 'rasm_movingAve1', 'rasm_LDS1', 'asm_movingAve1', 'asm_LDS1', 'dcau_movingAve1', 'dcau_LDS1', 'de_movingAve2', 'de_LDS2', 'psd_movingAve2', 'psd_LDS2', 'dasm_movingAve2', 'dasm_LDS2', 'rasm_movingAve2', 'rasm_LDS2', 'asm_movingAve2', 'asm_LDS2', 'dcau_movingAve2', 'dcau_LDS2', 'de_movingAve3', 'de_LDS3', 'psd_movingAve3', 'psd_LDS3', 'dasm_movingAve3', 'dasm_LDS3', 'rasm_movingAve3', 'rasm_LDS3', 'asm_movingAve3', 'asm_LDS3', 'dcau_movingAve3', 'dcau_LDS3', 'de_movingAve4', 'de_LDS4', 'psd_movingAve4', 'psd_LDS4', 'dasm_movingAve4', 'dasm_LDS4', 'rasm_movingAve4', 'rasm_LDS4', 'asm_movingAve4', 'asm_LDS4', 'dcau_movingAve4', 'dcau_LDS4', 'de_movingAve5', 'de_LDS5', 'psd_movingAve5', 'psd_LDS5', 'dasm_movingAve5', 'dasm_LDS5', 'rasm_movingAve5', 'rasm_LDS5', 'asm_movingAve5', 'asm_LDS5', 'dcau_movingAve5', 'dcau_LDS5', 'de_movingAve6', 'de_LDS6', 'psd_movingAve6', 'psd_LDS6', 'dasm_movingAve6', 'dasm_LDS6', 'rasm_movingAve6', 'rasm_LDS6', 'asm_movingAve6', 'asm_LDS6', 'dcau_movingAve6', 'dcau_LDS6', 'de_movingAve7', 'de_LDS7', 'psd_movingAve7', 'psd_LDS7', 'dasm_movingAve7', 'dasm_LDS7', 'rasm_movingAve7', 'rasm_LDS7', 'asm_movingAve7', 'asm_LDS7', 'dcau_movingAve7', 'dcau_LDS7', 'de_movingAve8', 'de_LDS8', 'psd_movingAve8', 'psd_LDS8', 'dasm_movingAve8', 'dasm_LDS8', 'rasm_movingAve8', 'rasm_LDS8', 'asm_movingAve8', 'asm_LDS8', 'dcau_movingAve8', 'dcau_LDS8', 'de_movingAve9', 'de_LDS9', 'psd_movingAve9', 'psd_LDS9', 'dasm_movingAve9', 'dasm_LDS9', 'rasm_movingAve9', 'rasm_LDS9', 'asm_movingAve9', 'asm_LDS9', 'dcau_movingAve9', 'dcau_LDS9', 'de_movingAve10', 'de_LDS10', 'psd_movingAve10', 'psd_LDS10', 'dasm_movingAve10', 'dasm_LDS10', 'rasm_movingAve10', 'rasm_LDS10', 'asm_movingAve10', 'asm_LDS10', 'dcau_movingAve10', 'dcau_LDS10', 'de_movingAve11', 'de_LDS11', 'psd_movingAve11', 'psd_LDS11', 'dasm_movingAve11', 'dasm_LDS11', 'rasm_movingAve11', 'rasm_LDS11', 'asm_movingAve11', 'asm_LDS11', 'dcau_movingAve11', 'dcau_LDS11', 'de_movingAve12', 'de_LDS12', 'psd_movingAve12', 'psd_LDS12', 'dasm_movingAve12', 'dasm_LDS12', 'rasm_movingAve12', 'rasm_LDS12', 'asm_movingAve12', 'asm_LDS12', 'dcau_movingAve12', 'dcau_LDS12', 'de_movingAve13', 'de_LDS13', 'psd_movingAve13', 'psd_LDS13', 'dasm_movingAve13', 'dasm_LDS13', 'rasm_movingAve13', 'rasm_LDS13', 'asm_movingAve13', 'asm_LDS13', 'dcau_movingAve13', 'dcau_LDS13', 'de_movingAve14', 'de_LDS14', 'psd_movingAve14', 'psd_LDS14', 'dasm_movingAve14', 'dasm_LDS14', 'rasm_movingAve14', 'rasm_LDS14', 'asm_movingAve14', 'asm_LDS14', 'dcau_movingAve14', 'dcau_LDS14', 'de_movingAve15', 'de_LDS15', 'psd_movingAve15', 'psd_LDS15', 'dasm_movingAve15', 'dasm_LDS15', 'rasm_movingAve15', 'rasm_LDS15', 'asm_movingAve15', 'asm_LDS15', 'dcau_movingAve15', 'dcau_LDS15'])\n"
     ]
    }
   ],
   "source": [
    "#Explore Variable Names\n",
    "\n",
    "variable_names = mat_data.keys()\n",
    "print(variable_names)\n"
   ]
  },
  {
   "cell_type": "code",
   "execution_count": 6,
   "metadata": {},
   "outputs": [
    {
     "data": {
      "text/plain": [
       "array([[3.50352009e+05, 1.66331804e+04, 1.65428092e+03, 1.19301467e+03,\n",
       "        3.52431165e+02],\n",
       "       [3.25396356e+05, 9.88985677e+03, 2.78404164e+03, 1.04468458e+03,\n",
       "        4.73488158e+02],\n",
       "       [4.53198878e+05, 1.86594768e+03, 2.50065603e+03, 8.60390406e+02,\n",
       "        2.45982394e+02],\n",
       "       ...,\n",
       "       [8.93890804e+05, 1.12214491e+04, 3.19319311e+03, 1.27820953e+03,\n",
       "        4.60260101e+02],\n",
       "       [7.22371330e+05, 1.44283341e+04, 3.78981259e+03, 9.83210382e+02,\n",
       "        4.34675140e+02],\n",
       "       [6.17496483e+05, 1.34757033e+04, 3.82325008e+03, 9.64043227e+02,\n",
       "        4.56051710e+02]])"
      ]
     },
     "execution_count": 6,
     "metadata": {},
     "output_type": "execute_result"
    }
   ],
   "source": [
    "data = mat_data['psd_movingAve1']\n",
    "data[25]\n"
   ]
  },
  {
   "cell_type": "code",
   "execution_count": null,
   "metadata": {},
   "outputs": [],
   "source": [
    "import numpy as np\n",
    "\n",
    "def eliminate_channels(data):\n",
    "    # Indices of rows to keep\n",
    "    indices_to_keep = [1, 4, 6, 8, 18, 16, 24, 26, 36, 34, 42, 44, 46, 53, 59, 60, 61, 55, 48, 50, 40, 38, 30, 32, 22, 20, 12, 14, 5, 3, 10, 28]\n",
    "\n",
    "    # Create a new array to store the selected rows\n",
    "    new_data = []\n",
    "\n",
    "    # Append selected rows to new_data\n",
    "    for i in range(len(indices_to_keep)):\n",
    "        new_data.append(data[indices_to_keep[i]-1])\n",
    "\n",
    "    # Convert new_data to a NumPy array\n",
    "    return np.array(new_data)\n"
   ]
  },
  {
   "cell_type": "code",
   "execution_count": null,
   "metadata": {},
   "outputs": [],
   "source": [
    "new_data = eliminate_channels(data)\n"
   ]
  },
  {
   "cell_type": "code",
   "execution_count": null,
   "metadata": {},
   "outputs": [],
   "source": [
    "data = np.array(new_data)"
   ]
  },
  {
   "cell_type": "code",
   "execution_count": null,
   "metadata": {},
   "outputs": [],
   "source": [
    "data[7]"
   ]
  },
  {
   "cell_type": "code",
   "execution_count": null,
   "metadata": {},
   "outputs": [],
   "source": [
    "data.shape"
   ]
  },
  {
   "cell_type": "code",
   "execution_count": null,
   "metadata": {},
   "outputs": [],
   "source": [
    "import numpy as np\n",
    "import matplotlib.pyplot as plt\n",
    "import pywt\n",
    "\n",
    "signal = s\n",
    "\n",
    "# Plot the original EEG-like signal\n",
    "plt.figure(figsize=(12, 4))\n",
    "plt.plot(signal)\n",
    "plt.title('Original EEG-like Signal')\n",
    "plt.xlabel('Time (s)')\n",
    "plt.ylabel('Amplitude')\n",
    "plt.show()\n",
    "\n",
    "# Apply Continuous Wavelet Transform (CWT)\n",
    "wavelet = 'morl'  # Morlet wavelet is commonly used for EEG analysis\n",
    "scales = np.arange(1, 128)\n",
    "coefficients, frequencies = pywt.cwt(signal, scales, wavelet)\n",
    "\n",
    "# Plot the CWT coefficients\n",
    "plt.figure(figsize=(12, 6))\n",
    "plt.imshow(np.abs(coefficients), aspect='auto', extent=[t[0], t[-1], scales[-1], scales[0]], cmap='jet')\n",
    "plt.colorbar(label='Magnitude')\n",
    "plt.title('Continuous Wavelet Transform (CWT) Coefficients')\n",
    "plt.xlabel('Time (s)')\n",
    "plt.ylabel('Scale')\n",
    "plt.show()\n"
   ]
  },
  {
   "cell_type": "code",
   "execution_count": null,
   "metadata": {},
   "outputs": [],
   "source": [
    "print(frequencies)\n",
    "frequencies.shape"
   ]
  },
  {
   "cell_type": "code",
   "execution_count": null,
   "metadata": {},
   "outputs": [],
   "source": [
    "from scipy.io import loadmat\n",
    "from sklearn.preprocessing import MinMaxScaler\n",
    "from scipy import signal\n",
    "import numpy as np\n",
    "import math\n",
    "import os\n",
    "from scipy.stats import kurtosis\n",
    "\n",
    "def calculate_time_domain_features(segment):\n",
    "    mean_value = np.mean(segment)\n",
    "    std_dev = np.std(segment)\n",
    "    var = np.var(segment, ddof=1)\n",
    "    kurt = kurtosis(segment)\n",
    "    max_value = np.max(segment)\n",
    "    return mean_value, std_dev, var, kurt, max_value\n",
    "\n",
    "datasets_X, datasets_y = [], []\n",
    "data = mat_data['djc_eeg1']  # Considering all channels\n",
    "\n",
    "fs = 200\n",
    "fStart = [1, 4, 8, 14, 31]\n",
    "fEnd = [3, 7, 13, 30, 50]\n",
    "all_channels = range(62)\n",
    "\n",
    "dataset_X = []\n",
    "\n",
    "for band_index, band in enumerate(fStart):\n",
    "    b, a = signal.butter(4, [fStart[band_index]/fs, fEnd[band_index]/fs], 'bandpass')\n",
    "    filtedData = signal.filtfilt(b, a, data)\n",
    "    features = []\n",
    "    for lead in all_channels:\n",
    "        feature = []  # Move this line inside the loop for each channel\n",
    "        for de_index in range(0, filtedData.shape[1] - fs, fs):\n",
    "            segment = filtedData[lead, de_index: de_index + fs]\n",
    "            # Calculate time domain features\n",
    "            mean_value, std_dev, var, kurt, max_value = calculate_time_domain_features(segment)\n",
    "            # Append features to the list\n",
    "            feature.append([mean_value, std_dev, var, kurt, max_value])  \n",
    "        features.append(feature)\n",
    "\n",
    "    features = np.array(features)\n",
    "    dataset_X.append(features)\n",
    "\n",
    "dataset_X = np.array(dataset_X)\n",
    "dataset_X = dataset_X.reshape((dataset_X.shape[0], dataset_X.shape[1], -1))\n",
    "\n",
    "datasets_X.append(dataset_X)\n",
    "\n",
    "datasets_X = np.array(datasets_X)\n",
    "print(datasets_X.shape)\n"
   ]
  },
  {
   "cell_type": "code",
   "execution_count": null,
   "metadata": {},
   "outputs": [],
   "source": [
    "dataset_X_reshaped = dataset_X.reshape((dataset_X.shape[0], dataset_X.shape[1], -1))\n",
    "\n",
    "# Now dataset_X_reshaped has shape (5, 62, 1175)\n",
    "print(dataset_X_reshaped.shape)"
   ]
  },
  {
   "cell_type": "code",
   "execution_count": null,
   "metadata": {},
   "outputs": [],
   "source": [
    "new_datasets_X = np.copy(datasets_X)\n",
    "new_datasets_X = np.transpose(new_datasets_X, (0, 2, 3, 1))\n",
    "print(new_datasets_X.shape)"
   ]
  },
  {
   "cell_type": "code",
   "execution_count": null,
   "metadata": {},
   "outputs": [],
   "source": []
  },
  {
   "cell_type": "code",
   "execution_count": null,
   "metadata": {},
   "outputs": [],
   "source": [
    "for trial_index in range(1, 16):  # Assuming trial indices are from 1 to 15\n",
    "    # Replace 'djc_eeg1' with the corresponding variable name containing EEG data for each trial\n",
    "    variable_name = f'djc_eeg{trial_index}'\n",
    "    eeg_data = mat_data[variable_name]\n",
    "\n",
    "    # Print the shape of the EEG data for this trial\n",
    "    print(f\"Shape of EEG data for trial {trial_index}: {eeg_data.shape}\")"
   ]
  },
  {
   "cell_type": "markdown",
   "metadata": {},
   "source": [
    "# Load a signle channel data of a trial"
   ]
  },
  {
   "cell_type": "code",
   "execution_count": 41,
   "metadata": {},
   "outputs": [
    {
     "data": {
      "image/png": "[encoded data removed]",
      "text/plain": [
       "<Figure size 1000x300 with 1 Axes>"
      ]
     },
     "metadata": {},
     "output_type": "display_data"
    }
   ],
   "source": [
    "import matplotlib.pyplot as plt\n",
    "import numpy as np\n",
    "\n",
    "# Choose the channel index for plotting (0 for the first channel, 1 for the second channel, and so on)\n",
    "channel_index = 4\n",
    "\n",
    "# Assuming mat_data is your loaded .mat file\n",
    "eeg_trial_data = mat_data['de_LDS1']\n",
    "\n",
    "# Get the EEG data for the chosen channel\n",
    "eeg_channel_data = eeg_trial_data[channel_index, :]\n",
    "\n",
    "# Selecting only the first column of eeg_channel_data\n",
    "eeg_channel_data_first_column = eeg_channel_data[:, 0]\n",
    "\n",
    "# Create a time vector for the x-axis (assuming a sampling rate of 200 Hz as mentioned in the dataset description)\n",
    "sampling_rate = 200\n",
    "time_vector = np.arange(len(eeg_channel_data_first_column)) / sampling_rate\n",
    "\n",
    "import matplotlib.pyplot as plt\n",
    "\n",
    "# Assuming eeg_trial_data is your data array\n",
    "\n",
    "plt.figure(figsize=(10, 3))\n",
    "plt.plot(eeg_trial_data[2, :, :])\n",
    "plt.xlabel(\"Time\")\n",
    "plt.ylabel(\"Value\")\n",
    "plt.subplots_adjust(left=0, right=1, top=1, bottom=0)\n",
    "plt.savefig(\"smoothed_data.pdf\", format=\"pdf\", bbox_inches=\"tight\", pad_inches=0)\n",
    "plt.show()\n",
    "\n",
    "\n"
   ]
  },
  {
   "cell_type": "code",
   "execution_count": 53,
   "metadata": {},
   "outputs": [
    {
     "data": {
      "image/png": "[encoded data removed]",
      "text/plain": [
       "<Figure size 1000x1000 with 1 Axes>"
      ]
     },
     "metadata": {},
     "output_type": "display_data"
    }
   ],
   "source": [
    "import matplotlib.pyplot as plt\n",
    "import numpy as np\n",
    "\n",
    "# Assuming eeg_trial_data is your data\n",
    "# (62, 265, 5) means (channels, time, trials)\n",
    "# So, to plot all the data as an image:\n",
    "\n",
    "# Transpose the data to have time on x-axis and channels on y-axis\n",
    "# This is to make the plot more interpretable\n",
    "eeg_trial_data_transposed = np.transpose(eeg_trial_data, (1, 0, 2))\n",
    "\n",
    "# Plot\n",
    "plt.figure(figsize=(10, 10))\n",
    "plt.imshow(eeg_trial_data_transposed[:, :, 4], aspect='auto', cmap='jet', origin='lower')\n",
    "plt.axis('off')  # Turn off the axis\n",
    "plt.savefig('eeg_trial_data.png', bbox_inches='tight', pad_inches=0)  # Save without borders\n",
    "plt.show()\n"
   ]
  },
  {
   "cell_type": "code",
   "execution_count": null,
   "metadata": {},
   "outputs": [],
   "source": [
    "# Plot EEG waves\n",
    "plt.plot(eeg_trial_data[2, :, 0], label='Delta')\n",
    "plt.plot(eeg_trial_data[2, :, 1], label='Theta')\n",
    "plt.plot(eeg_trial_data[2, :, 2], label='Alpha')\n",
    "plt.plot(eeg_trial_data[2, :, 3], label='Beta')\n",
    "plt.plot(eeg_trial_data[2, :, 4], label='Gamma')\n",
    "\n",
    "plt.xlabel(\"Time\", fontsize=15)\n",
    "plt.ylabel(\"Value\", fontsize=15)\n",
    "plt.tick_params(axis='both', which='both', length=0, width=0)\n",
    "plt.subplots_adjust(left=0, right=1, top=1, bottom=0)\n",
    "plt.legend(loc='upper right', fontsize=12)\n",
    "plt.savefig(\"smoothed_data.pdf\", format=\"pdf\", bbox_inches=\"tight\", pad_inches=0)\n",
    "plt.show()"
   ]
  },
  {
   "cell_type": "markdown",
   "metadata": {},
   "source": [
    "# Train Test Fig"
   ]
  },
  {
   "cell_type": "code",
   "execution_count": 56,
   "metadata": {},
   "outputs": [
    {
     "data": {
      "image/png": "[encoded data removed]",
      "text/plain": [
       "<Figure size 640x480 with 1 Axes>"
      ]
     },
     "metadata": {},
     "output_type": "display_data"
    }
   ],
   "source": [
    "import numpy as np\n",
    "import matplotlib.pyplot as plt\n",
    "\n",
    "# Assuming you have already defined the variables data and labels_edited\n",
    "\n",
    "data  = np.load(r\"E:\\STUDY\\Publications\\Thesis\\Brain Emotion Detection\\Dataset\\Practice with datasets\\Seed\\de_LDS_Extracted\\Shuffled X y\\shuffled_data1.npy\")\n",
    "labels_edited  = np.load(r\"E:\\STUDY\\Publications\\Thesis\\Brain Emotion Detection\\Dataset\\Practice with datasets\\Seed\\de_LDS_Extracted\\Shuffled X y\\shuffled_labels1.npy\")\n",
    "\n",
    "# Splitting Dataset into train, validation, test\n",
    "train_labels = labels_edited[0:550]\n",
    "test_labels = labels_edited[550:600]\n",
    "final_labels = labels_edited[600:675]\n",
    "\n",
    "train_data = data[0:550]\n",
    "test_data = data[550:600]\n",
    "final_test = data[600:675]\n",
    "\n",
    "# Calculate percentages and counts\n",
    "total_samples = len(labels_edited)\n",
    "train_percent = len(train_labels) / total_samples * 100\n",
    "test_percent = len(test_labels) / total_samples * 100\n",
    "final_percent = len(final_labels) / total_samples * 100\n",
    "\n",
    "train_count = len(train_labels)\n",
    "test_count = len(test_labels)\n",
    "final_count = len(final_labels)\n",
    "\n",
    "# Plotting\n",
    "labels = ['Train', 'Test', 'Validation']\n",
    "percentages = [train_percent, test_percent, final_percent]\n",
    "counts = [train_count, test_count, final_count]\n",
    "\n",
    "plt.bar(labels, percentages, color=['blue', 'green', 'red'])\n",
    "\n",
    "# Add count numbers above the bars\n",
    "for i, count in enumerate(counts):\n",
    "    plt.text(i, percentages[i] + 0.5, str(count), ha='center', va='bottom')\n",
    "\n",
    "plt.ylabel('Percentage')\n",
    "plt.title('Percentage and Count of Data in Train, Test, and Validation Sets')\n",
    "plt.ylim(0, 100)  # Set y-axis limit from 0 to 100\n",
    "plt.show()\n"
   ]
  },
  {
   "cell_type": "markdown",
   "metadata": {},
   "source": [
    "# Mooving avg filter\n"
   ]
  },
  {
   "cell_type": "code",
   "execution_count": null,
   "metadata": {},
   "outputs": [],
   "source": [
    "import numpy as np\n",
    "\n",
    "# Load the npy file\n",
    "file_path = \"E:/STUDY/Publications/Thesis/Brain Emotion Detection/Dataset/Practice with datasets/Seed/Features Extracted Own/Shuffled/Time/shuffled_X.npy\"\n",
    "data = np.load(file_path)\n",
    "\n",
    "# Verify the shape of the loaded data\n",
    "print(\"Shape of the loaded data:\", data.shape)\n"
   ]
  },
  {
   "cell_type": "code",
   "execution_count": null,
   "metadata": {},
   "outputs": [],
   "source": [
    "# Normalize the data\n",
    "normalized_data = (data - np.mean(data)) / np.std(data)"
   ]
  },
  {
   "cell_type": "code",
   "execution_count": null,
   "metadata": {},
   "outputs": [],
   "source": [
    "import pandas as pd\n",
    "\n",
    "# Define the window size for the moving average filter\n",
    "window_size = 300\n",
    "\n",
    "# Apply the moving average filter\n",
    "smoothed_data = np.zeros_like(normalized_data)\n",
    "for i in range(normalized_data.shape[0]):\n",
    "    for j in range(normalized_data.shape[1]):\n",
    "        for k in range(normalized_data.shape[3]):\n",
    "            series = pd.Series(normalized_data[i, j, :, k])\n",
    "            smoothed_data[i, j, :, k] = series.rolling(window=window_size, center=True, min_periods=1).mean()\n",
    "\n",
    "# Visualize the smoothed data\n",
    "plt.plot(smoothed_data[1, 2, :, :])\n",
    "plt.title(\"Visualization of Smoothed Data at Index [0, 1, :, 2]\")\n",
    "plt.xlabel(\"Time\")\n",
    "plt.ylabel(\"Smoothed Value\")\n",
    "plt.show()\n"
   ]
  },
  {
   "cell_type": "code",
   "execution_count": null,
   "metadata": {},
   "outputs": [],
   "source": [
    "# Visualize the smoothed data\n",
    "plt.plot(smoothed_data[6, 2, :, :])\n",
    "plt.title(\"Visualization of Smoothed Data at Index [0, 1, :, 2]\")\n",
    "plt.xlabel(\"Time\")\n",
    "plt.ylabel(\"Smoothed Value\")\n",
    "plt.show()"
   ]
  },
  {
   "cell_type": "code",
   "execution_count": null,
   "metadata": {},
   "outputs": [],
   "source": [
    "import pandas as pd\n",
    "import matplotlib.pyplot as plt\n",
    "\n",
    "# Define the window size for the moving average filter\n",
    "window_size = 300\n",
    "\n",
    "# Apply the moving average filter\n",
    "smoothed_data = np.zeros_like(normalized_data)\n",
    "for i in range(normalized_data.shape[0]):\n",
    "    for j in range(normalized_data.shape[1]):\n",
    "        for k in range(normalized_data.shape[3]):\n",
    "            \n",
    "            smoothed_data[i, j, :, k] = pd.Series(normalized_data[i, j, :, k]).rolling(window=window_size, center=True).mean()\n",
    "\n",
    "# Visualize the smoothed data\n",
    "plt.plot(smoothed_data[0, 2, :, :])\n",
    "plt.title(\"Visualization of Smoothed Data at Index [0, 1, :, 2]\")\n",
    "plt.xlabel(\"Time\")\n",
    "plt.ylabel(\"Smoothed Value\")\n",
    "plt.show()\n"
   ]
  },
  {
   "cell_type": "code",
   "execution_count": null,
   "metadata": {},
   "outputs": [],
   "source": [
    "import numpy as np\n",
    "\n",
    "# Replace NaN values with zeros\n",
    "non_nan_data = np.nan_to_num(smoothed_data, nan=0)\n"
   ]
  },
  {
   "cell_type": "code",
   "execution_count": null,
   "metadata": {},
   "outputs": [],
   "source": [
    "# Visualize the smoothed data\n",
    "plt.plot(non_nan_data[0, 2, :, :])\n",
    "plt.title(\"Visualization of Smoothed Data at Index [0, 1, :, 2]\")\n",
    "plt.xlabel(\"Time\")\n",
    "plt.ylabel(\"Smoothed Value\")\n",
    "plt.show()"
   ]
  },
  {
   "cell_type": "code",
   "execution_count": null,
   "metadata": {},
   "outputs": [],
   "source": [
    "import numpy as np\n",
    "\n",
    "# Find the starting and ending indices of non-zero values along the third axis\n",
    "start_idx = np.nonzero(non_nan_data.any(axis=(0, 1, 3)))[0][0]\n",
    "end_idx = np.nonzero(non_nan_data.any(axis=(0, 1, 3)))[0][-1] + 1\n",
    "\n",
    "# Split the array along the third axis based on the starting and ending indices\n",
    "split_data = non_nan_data[:, :, start_idx:end_idx, :]\n"
   ]
  },
  {
   "cell_type": "code",
   "execution_count": null,
   "metadata": {},
   "outputs": [],
   "source": [
    "data = split_data"
   ]
  },
  {
   "cell_type": "code",
   "execution_count": null,
   "metadata": {},
   "outputs": [],
   "source": [
    "data.shape"
   ]
  },
  {
   "cell_type": "code",
   "execution_count": null,
   "metadata": {},
   "outputs": [],
   "source": [
    "# Visualize the smoothed data\n",
    "plt.plot(data[0, 2, :, :])\n",
    "plt.title(\"Visualization of Smoothed Data at Index [0, 1, :, 2]\")\n",
    "plt.xlabel(\"Time\")\n",
    "plt.ylabel(\"Smoothed Value\")\n",
    "plt.show()"
   ]
  },
  {
   "cell_type": "code",
   "execution_count": null,
   "metadata": {},
   "outputs": [],
   "source": [
    "data[0, 2, :, 4]"
   ]
  },
  {
   "cell_type": "code",
   "execution_count": 13,
   "metadata": {},
   "outputs": [
    {
     "name": "stdout",
     "output_type": "stream",
     "text": [
      "Shape of the data: (1280, 32, 168, 4)\n"
     ]
    }
   ],
   "source": [
    "import numpy as np\n",
    "\n",
    "# Load the shuffled_data1.npy file\n",
    "data = np.load(r'E:\\STUDY\\Publications\\Thesis\\Brain Emotion Detection\\Dataset\\Practice with datasets\\deap\\Shuffled\\TIme\\DEAP_Time_X.npy')\n",
    "\n",
    "# Check the shape of the data\n",
    "print(\"Shape of the data:\", data.shape)\n"
   ]
  },
  {
   "cell_type": "markdown",
   "metadata": {},
   "source": [
    "# delta, theta, alpha, beta, gamma waves"
   ]
  },
  {
   "cell_type": "code",
   "execution_count": null,
   "metadata": {},
   "outputs": [],
   "source": [
    "import matplotlib.pyplot as plt\n",
    "import numpy as np\n",
    "from scipy.signal import butter, filtfilt\n",
    "\n",
    "# Function to apply bandpass filter\n",
    "def bandpass_filter(data, lowcut, highcut, fs, order=4):\n",
    "    nyquist = 0.5 * fs\n",
    "    low = lowcut / nyquist\n",
    "    high = highcut / nyquist\n",
    "    b, a = butter(order, [low, high], btype='band')\n",
    "    filtered_data = filtfilt(b, a, data)\n",
    "    return filtered_data\n",
    "\n",
    "# Choose the channel index for plotting (0 for the first channel, 1 for the second channel, and so on)\n",
    "channel_index = 22\n",
    "\n",
    "# Assuming mat_data and sampling_rate are defined\n",
    "eeg_trial_data = mat_data['djc_eeg2']\n",
    "\n",
    "# Get the EEG data for the chosen channel\n",
    "eeg_channel_data = eeg_trial_data[channel_index, :]\n",
    "\n",
    "# Create a time vector for the x-axis (assuming a sampling rate of 200 Hz as mentioned in the dataset description)\n",
    "sampling_rate = 200\n",
    "time_vector = np.arange(len(eeg_channel_data)) / sampling_rate\n",
    "\n",
    "# Define the time range to plot (e.g., from 30 to 40 seconds)\n",
    "start_time = 30\n",
    "end_time = 40\n",
    "start_index = int(start_time * sampling_rate)\n",
    "end_index = int(end_time * sampling_rate)\n",
    "\n",
    "# Apply a moving average for smoothing\n",
    "window_size = 5  # Adjust the window size as needed\n",
    "eeg_channel_data_smoothed = np.convolve(eeg_channel_data, np.ones(window_size)/window_size, mode='valid')\n",
    "\n",
    "# Reduce the number of points in 1 second for better visualization\n",
    "downsampling_factor = 10\n",
    "time_vector_downsampled = time_vector[start_index:end_index:downsampling_factor]\n",
    "\n",
    "# Define frequency bands\n",
    "frequency_bands = {\n",
    "    'delta': (1, 4),\n",
    "    'theta': (4, 8),\n",
    "    'alpha': (8, 14),\n",
    "    'beta': (14, 30),\n",
    "    'gamma': (30, 50)\n",
    "}\n",
    "\n",
    "# Plot the main EEG data in dark red (chocolate)\n",
    "plt.figure(figsize=(20, 6))\n",
    "plt.plot(time_vector_downsampled, eeg_channel_data[start_index:end_index:downsampling_factor], color='darkred', label='Main EEG Data')\n",
    "\n",
    "# Apply bandpass filters to extract sub-bands\n",
    "delta_data = bandpass_filter(eeg_channel_data, *frequency_bands['delta'], fs=sampling_rate)\n",
    "theta_data = bandpass_filter(eeg_channel_data, *frequency_bands['theta'], fs=sampling_rate)\n",
    "alpha_data = bandpass_filter(eeg_channel_data, *frequency_bands['alpha'], fs=sampling_rate)\n",
    "beta_data = bandpass_filter(eeg_channel_data, *frequency_bands['beta'], fs=sampling_rate)\n",
    "gamma_data = bandpass_filter(eeg_channel_data, *frequency_bands['gamma'], fs=sampling_rate)\n",
    "\n",
    "# Plot the EEG sub-bands\n",
    "plt.figure(figsize=(20, 12))\n",
    "\n",
    "plt.subplot(6, 1, 1)\n",
    "plt.plot(time_vector_downsampled, eeg_channel_data[start_index:end_index:downsampling_factor], color='darkred', label='EEG Signal')\n",
    "plt.title('Main EEG Data')\n",
    "plt.xticks([])  # Remove x-axis ticks\n",
    "plt.yticks([])  # Remove y-axis ticks\n",
    "\n",
    "plt.subplot(6, 1, 2)\n",
    "plt.plot(time_vector_downsampled, delta_data[start_index:end_index:downsampling_factor], color='lightcoral')\n",
    "plt.title('Delta Band (1-4 Hz)')\n",
    "plt.xticks([])  # Remove x-axis ticks\n",
    "plt.yticks([])  # Remove y-axis ticks\n",
    "\n",
    "plt.subplot(6, 1, 3)\n",
    "plt.plot(time_vector_downsampled, theta_data[start_index:end_index:downsampling_factor], color='lightcoral')\n",
    "plt.title('Theta Band (4-8 Hz)')\n",
    "plt.xticks([])  # Remove x-axis ticks\n",
    "plt.yticks([])  # Remove y-axis ticks\n",
    "\n",
    "plt.subplot(6, 1, 4)\n",
    "plt.plot(time_vector_downsampled, alpha_data[start_index:end_index:downsampling_factor], color='lightcoral')\n",
    "plt.title('Alpha Band (8-14 Hz)')\n",
    "plt.xticks([])  # Remove x-axis ticks\n",
    "plt.yticks([])  # Remove y-axis ticks\n",
    "\n",
    "plt.subplot(6, 1, 5)\n",
    "plt.plot(time_vector_downsampled, beta_data[start_index:end_index:downsampling_factor], color='lightcoral')\n",
    "plt.title('Beta Band (14-30 Hz)')\n",
    "plt.xticks([])  # Remove x-axis ticks\n",
    "plt.yticks([])  # Remove y-axis ticks\n",
    "\n",
    "plt.subplot(6, 1, 6)\n",
    "plt.plot(time_vector_downsampled, gamma_data[start_index:end_index:downsampling_factor], color='lightcoral')\n",
    "plt.title('Gamma Band (30-50 Hz)')\n",
    "plt.xticks([])  # Remove x-axis ticks\n",
    "plt.yticks([])  # Remove y-axis ticks\n",
    "\n",
    "# Adjust layout\n",
    "plt.tight_layout()\n",
    "\n",
    "# Show legend for the main EEG data\n",
    "plt.legend()\n",
    "\n",
    "# Save the plot as a high-quality PNG image\n",
    "plt.savefig('eeg_subbands.png', dpi=300, bbox_inches='tight')\n",
    "\n",
    "# Show the plot\n",
    "plt.show()\n"
   ]
  }
 ],
 "metadata": {
  "kernelspec": {
   "display_name": "Python 3",
   "language": "python",
   "name": "python3"
  },
  "language_info": {
   "codemirror_mode": {
    "name": "ipython",
    "version": 3
   },
   "file_extension": ".py",
   "mimetype": "text/x-python",
   "name": "python",
   "nbconvert_exporter": "python",
   "pygments_lexer": "ipython3",
   "version": "3.10.6"
  },
  "orig_nbformat": 4
 },
 "nbformat": 4,
 "nbformat_minor": 2
}
